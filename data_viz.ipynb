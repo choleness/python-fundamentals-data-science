{
 "cells": [
  {
   "cell_type": "markdown",
   "metadata": {},
   "source": [
    "# Data Visualization"
   ]
  },
  {
   "cell_type": "markdown",
   "metadata": {},
   "source": [
    "Data visualization is used to explore your data and to communicate your data (early and late in the workflow). My goal for you isn't to make you a data viz wizard, but to give you enough of an understanding to be able to explore your data and jumpstart your own learning.  \n",
    "\n",
    "The **matplotlib** library is great for making simple plots. If you want to make elaborate interactive visualizations, it's probably not for you. But it's good for quick and dirty data viz that is relatively customizable. \n",
    "\n",
    "The **seaborn** library is built on matplotlib and has a lot more \"out-of-the-box\" functionality for quick plots."
   ]
  },
  {
   "cell_type": "code",
   "execution_count": 1,
   "metadata": {
    "collapsed": true
   },
   "outputs": [],
   "source": [
    "import pandas as pd\n",
    "import seaborn as sns\n",
    "import matplotlib.pyplot as plt\n",
    "%matplotlib inline\n",
    "sns.set_style(\"darkgrid\")"
   ]
  },
  {
   "cell_type": "markdown",
   "metadata": {},
   "source": [
    "### Choosing the correct plot\n",
    "We'll match plot type with model \n",
    "<img src=\"assets/chartpicker.jpg\"/>"
   ]
  },
  {
   "cell_type": "markdown",
   "metadata": {},
   "source": [
    "## Basic MatplotLib Plotting Formula"
   ]
  },
  {
   "cell_type": "markdown",
   "metadata": {},
   "source": [
    "* `plt.title(“My Title”)` will add a title “My Title” to your plot\n",
    "\n",
    "* `plt.xlabel(“Year”)` will add a label “Year” to your x-axis\n",
    "\n",
    "* `plt.ylabel(“Population”)` will add a label “Population” to your y-axis\n",
    "\n",
    "* `plt.xticks([1, 2, 3, 4, 5])` set the numbers on the x-axis to be 1, 2, 3, 4, 5. \n",
    "\n",
    "We can also pass and labels as a second argument. For, example, if we use this code `plt.xticks([1, 2, 3, 4, 5], [\"1M\", \"2M\", \"3M\", \"4M\", \"5M\"])`, it will set the labels 1M, 2M, 3M, 4M, 5M on the x-axis.\n",
    "plt.yticks() - works the same as `plt.xticks()`, but for the y-axis."
   ]
  },
  {
   "cell_type": "markdown",
   "metadata": {},
   "source": [
    "### Line Plot\n",
    "* displays information as a series of data points called “markers” connected by straight lines \n",
    "* need the measurement points to be ordered (typically by their x-axis values) \n",
    "* often used to visualize a trend in data over intervals of time (time series)\n",
    "\n",
    "\n",
    "To make a line plot with Matplotlib, we call `plt.plot()`. \n",
    "\n",
    "The first argument is used for the data on the horizontal axis, and the second is used for the data on the vertical axis. \n",
    "\n",
    "This function generates your plot, but it doesn’t display it. To display the plot, we need to call the `plt.show()` function. This is nice because we might want to add some additional customizations to our plot before we display it. For example, we might want to add labels to the axis and title for the plot."
   ]
  },
  {
   "cell_type": "code",
   "execution_count": 1,
   "metadata": {},
   "outputs": [],
   "source": [
    "years = [1974, 1975, 1976, 1977, 1978]\n",
    "total_populations = [8939007, 8954518, 8960387, 8956741, 8943721]\n"
   ]
  },
  {
   "cell_type": "markdown",
   "metadata": {},
   "source": [
    "### Scatter Plot\n",
    "* shows all individual data points but doesn't connect them with lines\n",
    "* used to display trends or correlations and how 2 variables compare\n",
    "\n",
    "To make a scatter plot with Matplotlib, we can use the `plt.scatter()` function. Again, the first argument is used for the data on the horizontal axis, and the second - for the vertical axis."
   ]
  },
  {
   "cell_type": "markdown",
   "metadata": {},
   "source": [
    "#### Load in the iris dataset"
   ]
  },
  {
   "cell_type": "code",
   "execution_count": null,
   "metadata": {},
   "outputs": [],
   "source": []
  },
  {
   "cell_type": "code",
   "execution_count": null,
   "metadata": {
    "scrolled": true
   },
   "outputs": [],
   "source": []
  },
  {
   "cell_type": "code",
   "execution_count": null,
   "metadata": {
    "collapsed": true
   },
   "outputs": [],
   "source": []
  },
  {
   "cell_type": "markdown",
   "metadata": {},
   "source": [
    "### Histogram\n",
    "* represents the distribution of numeric data\n",
    "* divide range of values into a series of intervals (AKA bins) and count how many values fall in each interval\n",
    "\n",
    "To make a histogram with Matplotlib, we can use the `plt.hist()` function. The first argument is the numeric data, the second argument is the number of bins. The default value for the bins argument is 10."
   ]
  },
  {
   "cell_type": "code",
   "execution_count": 9,
   "metadata": {
    "collapsed": true
   },
   "outputs": [],
   "source": [
    "numbers = [0.1, 0.5, 1, 1.5, 2, 4, 5.5, 6, 8, 9]"
   ]
  },
  {
   "cell_type": "code",
   "execution_count": null,
   "metadata": {},
   "outputs": [],
   "source": []
  },
  {
   "cell_type": "markdown",
   "metadata": {},
   "source": [
    "### Box Plot\n",
    "* (AKA box-and-whisker plot) way to show the distribution of values based on the five-number summary: minimum, first quartile, median, third quartile, and maximum\n",
    "* minimum and the maximum are just the min and max values from our data.\n",
    "* median is the value that separates the higher half of a data from the lower half\n",
    "* first quartile is the median of the data values to the left of the median in our ordered values.\n",
    "* third quartile is the median of the data values to the right of the median in our ordered values. (third quartile minus first quartile is refered to as interquartile range)\n",
    "* outlier is a data value that lies outside the overall pattern. There are many ways to identify what is an outlier. A commonly used rule says that a value is an outlier if it’s less than the first quartile - 1.5 * IQR or high than the third quartile + 1.5 * IQR. \n",
    "\n",
    "<img src=\"assets/boxplot.png\"/>\n",
    "\n",
    "To create this plot with Matplotlib we use `plt.boxplot()`. The first argument is the data points."
   ]
  },
  {
   "cell_type": "code",
   "execution_count": 2,
   "metadata": {},
   "outputs": [],
   "source": [
    "values = [1, 2, 5, 6, 6, 7, 7, 8, 8, 8, 9, 10, 21]\n"
   ]
  },
  {
   "cell_type": "markdown",
   "metadata": {},
   "source": [
    "### Bar chart:\n",
    "* represents categorical data with rectangular bars \n",
    "* each bar has a height corresponds to the value it represents\n",
    "* used when we want to compare a given numeric value on different categories.\n",
    "\n",
    "\n",
    "To make a bar chart with Maplotlib, we’ll need the `plt.bar()` function."
   ]
  },
  {
   "cell_type": "code",
   "execution_count": 3,
   "metadata": {},
   "outputs": [],
   "source": [
    "# Our data\n",
    "labels = [\"JavaScript\", \"Java\", \"Python\", \"C#\"]\n",
    "usage = [69.8, 45.3, 38.8, 34.4]\n",
    "\n",
    "# Generating the y positions. Later, we'll use them to replace them with labels.\n",
    "y_positions = range(len(labels))\n"
   ]
  },
  {
   "cell_type": "markdown",
   "metadata": {},
   "source": [
    "## Pandas Plotting\n",
    "You can also plot directly from a dataframe because Pandas is tightly integrated with MatPlotLib. This is great for when you just need a quick and easy plot of your data."
   ]
  },
  {
   "cell_type": "code",
   "execution_count": null,
   "metadata": {},
   "outputs": [],
   "source": []
  },
  {
   "cell_type": "markdown",
   "metadata": {},
   "source": [
    "#### Customizing\": Change color and size "
   ]
  },
  {
   "cell_type": "code",
   "execution_count": null,
   "metadata": {
    "collapsed": true
   },
   "outputs": [],
   "source": []
  },
  {
   "cell_type": "markdown",
   "metadata": {},
   "source": [
    "## Independent Work\n",
    "Grab a dataset from the folder, and do some exploratory data analysis using some of the chart types we've talked about. \n",
    "\n",
    "Be prepared to talk about:\n",
    "* why you chose that chart\n",
    "* what insights the visualization gives you"
   ]
  },
  {
   "cell_type": "code",
   "execution_count": null,
   "metadata": {
    "collapsed": true
   },
   "outputs": [],
   "source": []
  },
  {
   "cell_type": "code",
   "execution_count": null,
   "metadata": {
    "collapsed": true
   },
   "outputs": [],
   "source": []
  },
  {
   "cell_type": "code",
   "execution_count": null,
   "metadata": {
    "collapsed": true
   },
   "outputs": [],
   "source": []
  },
  {
   "cell_type": "code",
   "execution_count": null,
   "metadata": {
    "collapsed": true
   },
   "outputs": [],
   "source": []
  },
  {
   "cell_type": "code",
   "execution_count": null,
   "metadata": {
    "collapsed": true
   },
   "outputs": [],
   "source": []
  },
  {
   "cell_type": "markdown",
   "metadata": {},
   "source": [
    "## Seaborn\n",
    "Provides a high-level interface for graphics. I find it super useful for Exploratory Data Analysis because it makes it easy to get to know your data quickly.\n",
    "\n",
    "#### Seaborn VS matplotlib\n",
    "* seaborn extends matplotlib, so they can do the same things\n",
    "* matplotlib makes easy things easy and hard things possible\n",
    "* seaborn tries to takes some of those hard things and make them easier to do\n",
    "* seaborn has better defaults (e.g. colors, tick marks, etc.)\n",
    "* seaborn also makes little easier to work with dataframes\n",
    "\n",
    "#### Seaborn's well-defined set of hard things it make easy\n",
    "* using default themes that are aesthetically pleasing.\n",
    "* setting custom color palettes.\n",
    "* making attractive statistical plots.\n",
    "* easily and flexibly displaying distributions.\n",
    "* visualizing information from matrices and DataFrames."
   ]
  },
  {
   "cell_type": "markdown",
   "metadata": {},
   "source": [
    "### Scatterplots\n",
    "* make a scatter plot is just one line of code using `lmplot()` \n",
    "* pass your DataFrame to the `data=` argument, passing column names to the axes arguments `x=` and `y=`"
   ]
  },
  {
   "cell_type": "code",
   "execution_count": null,
   "metadata": {},
   "outputs": [],
   "source": []
  },
  {
   "cell_type": "markdown",
   "metadata": {},
   "source": [
    "#### Scatterplot parameters\n",
    "Seaborn doesn't have a dedicated scatter plot function, which is why you see a diagonal line. We actually used Seaborn's function for fitting and plotting a regression line.\n",
    "\n",
    "**Useful plotting options to set**\n",
    "* Set `fit_reg=False` to remove the regression line, since we only want a scatter plot.\n",
    "* set `hue='species'` to color our points by the species. This hue argument is very useful because it allows you to express a third dimension of information using color."
   ]
  },
  {
   "cell_type": "code",
   "execution_count": null,
   "metadata": {
    "collapsed": true
   },
   "outputs": [],
   "source": []
  },
  {
   "cell_type": "markdown",
   "metadata": {},
   "source": [
    "If we want to continue customizing this plot (like tweaking axes), then we can use matplotlib to do these customizations. \n",
    "\n",
    "Let's take a tour of some useful quick seaborn plots."
   ]
  },
  {
   "cell_type": "markdown",
   "metadata": {},
   "source": [
    "### Jointplot \n",
    "Produces a scatterplot and histograms"
   ]
  },
  {
   "cell_type": "code",
   "execution_count": null,
   "metadata": {},
   "outputs": [],
   "source": []
  },
  {
   "cell_type": "markdown",
   "metadata": {},
   "source": [
    "### Histogram"
   ]
  },
  {
   "cell_type": "code",
   "execution_count": null,
   "metadata": {},
   "outputs": [],
   "source": []
  },
  {
   "cell_type": "markdown",
   "metadata": {},
   "source": [
    "### Boxplot"
   ]
  },
  {
   "cell_type": "code",
   "execution_count": null,
   "metadata": {},
   "outputs": [],
   "source": []
  },
  {
   "cell_type": "markdown",
   "metadata": {
    "collapsed": true
   },
   "source": [
    "### Violinplots \n",
    "Show density of data."
   ]
  },
  {
   "cell_type": "code",
   "execution_count": null,
   "metadata": {},
   "outputs": [],
   "source": []
  },
  {
   "cell_type": "markdown",
   "metadata": {},
   "source": [
    "### Seaborn themes\n",
    "Another advantage of Seaborn is that it comes with decent style themes right out of the box. The default theme is called 'darkgrid'."
   ]
  },
  {
   "cell_type": "markdown",
   "metadata": {},
   "source": [
    "#### Change the theme to 'whitegrid' for a violin plot for iris petal length"
   ]
  },
  {
   "cell_type": "code",
   "execution_count": null,
   "metadata": {},
   "outputs": [],
   "source": []
  },
  {
   "cell_type": "markdown",
   "metadata": {
    "collapsed": true
   },
   "source": [
    "### Pairplot \n",
    "Shows relationships between all variables. I find this one super useful!"
   ]
  },
  {
   "cell_type": "code",
   "execution_count": null,
   "metadata": {},
   "outputs": [],
   "source": []
  },
  {
   "cell_type": "markdown",
   "metadata": {},
   "source": [
    "### Heatmap"
   ]
  },
  {
   "cell_type": "code",
   "execution_count": null,
   "metadata": {},
   "outputs": [],
   "source": []
  },
  {
   "cell_type": "markdown",
   "metadata": {},
   "source": [
    "# Independent Practice"
   ]
  },
  {
   "cell_type": "markdown",
   "metadata": {},
   "source": [
    "Explore the data in the `titanic_train.csv` file using your new knowledge of Seaborn. Be prepared to tell one interesting finding about this dataset (think about what you might want to explore further with modeling and statistics)."
   ]
  },
  {
   "cell_type": "code",
   "execution_count": null,
   "metadata": {
    "collapsed": true
   },
   "outputs": [],
   "source": []
  },
  {
   "cell_type": "code",
   "execution_count": null,
   "metadata": {
    "collapsed": true
   },
   "outputs": [],
   "source": []
  },
  {
   "cell_type": "code",
   "execution_count": null,
   "metadata": {
    "collapsed": true
   },
   "outputs": [],
   "source": []
  },
  {
   "cell_type": "code",
   "execution_count": null,
   "metadata": {
    "collapsed": true
   },
   "outputs": [],
   "source": []
  },
  {
   "cell_type": "code",
   "execution_count": null,
   "metadata": {
    "collapsed": true
   },
   "outputs": [],
   "source": []
  }
 ],
 "metadata": {
  "kernelspec": {
   "display_name": "Python 3",
   "language": "python",
   "name": "python3"
  },
  "language_info": {
   "codemirror_mode": {
    "name": "ipython",
    "version": 3
   },
   "file_extension": ".py",
   "mimetype": "text/x-python",
   "name": "python",
   "nbconvert_exporter": "python",
   "pygments_lexer": "ipython3",
   "version": "3.6.3"
  }
 },
 "nbformat": 4,
 "nbformat_minor": 2
}
